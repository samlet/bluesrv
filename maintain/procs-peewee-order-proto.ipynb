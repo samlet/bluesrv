{
 "cells": [
  {
   "cell_type": "code",
   "execution_count": 2,
   "metadata": {
    "ExecuteTime": {
     "end_time": "2021-11-12T06:22:47.135248Z",
     "start_time": "2021-11-12T06:22:47.102465Z"
    }
   },
   "outputs": [],
   "source": [
    "from peewee import MySQLDatabase\n",
    "from playhouse.reflection import generate_models, print_model, print_table_sql"
   ]
  },
  {
   "cell_type": "code",
   "execution_count": 5,
   "metadata": {
    "ExecuteTime": {
     "end_time": "2021-11-12T06:24:47.509777Z",
     "start_time": "2021-11-12T06:24:47.505482Z"
    }
   },
   "outputs": [],
   "source": [
    "db = MySQLDatabase('order_proto', user='root', passwd='root')"
   ]
  },
  {
   "cell_type": "code",
   "execution_count": 6,
   "metadata": {
    "ExecuteTime": {
     "end_time": "2021-11-12T06:24:52.658011Z",
     "start_time": "2021-11-12T06:24:49.401788Z"
    }
   },
   "outputs": [],
   "source": [
    "models = generate_models(db)"
   ]
  },
  {
   "cell_type": "code",
   "execution_count": 7,
   "metadata": {
    "ExecuteTime": {
     "end_time": "2021-11-12T06:25:23.418929Z",
     "start_time": "2021-11-12T06:25:23.388011Z"
    }
   },
   "outputs": [
    {
     "data": {
      "text/plain": [
       "[('acctg_trans', <Model: acctg_trans>),\n",
       " ('acctg_trans_entry', <Model: acctg_trans_entry>),\n",
       " ('agreement', <Model: agreement>),\n",
       " ('agreement_item', <Model: agreement_item>),\n",
       " ('agreement_product_appl', <Model: agreement_product_appl>),\n",
       " ('agreement_term', <Model: agreement_term>),\n",
       " ('billing_account', <Model: billing_account>),\n",
       " ('billing_account_role', <Model: billing_account_role>),\n",
       " ('carrier_shipment_box_type', <Model: carrier_shipment_box_type>),\n",
       " ('carrier_shipment_method', <Model: carrier_shipment_method>),\n",
       " ('contact_mech', <Model: contact_mech>),\n",
       " ('content', <Model: content>),\n",
       " ('content_assoc', <Model: content_assoc>),\n",
       " ('credit_card', <Model: credit_card>),\n",
       " ('cust_request', <Model: cust_request>),\n",
       " ('cust_request_item', <Model: cust_request_item>),\n",
       " ('cust_request_type', <Model: cust_request_type>),\n",
       " ('data_resource', <Model: data_resource>),\n",
       " ('electronic_text', <Model: electronic_text>),\n",
       " ('facility_contact_mech', <Model: facility_contact_mech>),\n",
       " ('facility_contact_mech_purpose', <Model: facility_contact_mech_purpose>),\n",
       " ('facility_location', <Model: facility_location>),\n",
       " ('facility_location_geo_point', <Model: facility_location_geo_point>),\n",
       " ('fixed_asset', <Model: fixed_asset>),\n",
       " ('fixed_asset_geo_point', <Model: fixed_asset_geo_point>),\n",
       " ('fixed_asset_product', <Model: fixed_asset_product>),\n",
       " ('inventory_item', <Model: inventory_item>),\n",
       " ('inventory_item_detail', <Model: inventory_item_detail>),\n",
       " ('invoice', <Model: invoice>),\n",
       " ('invoice_item', <Model: invoice_item>),\n",
       " ('item_issuance', <Model: item_issuance>),\n",
       " ('order_adjustment', <Model: order_adjustment>),\n",
       " ('order_adjustment_billing', <Model: order_adjustment_billing>),\n",
       " ('order_contact_mech', <Model: order_contact_mech>),\n",
       " ('order_header', <Model: order_header>),\n",
       " ('order_item', <Model: order_item>),\n",
       " ('order_item_billing', <Model: order_item_billing>),\n",
       " ('order_item_price_info', <Model: order_item_price_info>),\n",
       " ('order_item_ship_group', <Model: order_item_ship_group>),\n",
       " ('order_item_ship_group_assoc', <Model: order_item_ship_group_assoc>),\n",
       " ('order_item_ship_grp_inv_res', <Model: order_item_ship_grp_inv_res>),\n",
       " ('order_payment_preference', <Model: order_payment_preference>),\n",
       " ('order_role', <Model: order_role>),\n",
       " ('order_status', <Model: order_status>),\n",
       " ('party', <Model: party>),\n",
       " ('party_contact_mech', <Model: party_contact_mech>),\n",
       " ('party_contact_mech_purpose', <Model: party_contact_mech_purpose>),\n",
       " ('party_geo_point', <Model: party_geo_point>),\n",
       " ('party_group', <Model: party_group>),\n",
       " ('party_relationship', <Model: party_relationship>),\n",
       " ('party_role', <Model: party_role>),\n",
       " ('party_status', <Model: party_status>),\n",
       " ('party_tax_auth_info', <Model: party_tax_auth_info>),\n",
       " ('payment', <Model: payment>),\n",
       " ('payment_application', <Model: payment_application>),\n",
       " ('payment_gateway_response', <Model: payment_gateway_response>),\n",
       " ('payment_method', <Model: payment_method>),\n",
       " ('person', <Model: person>),\n",
       " ('postal_address', <Model: postal_address>),\n",
       " ('prod_catalog', <Model: prod_catalog>),\n",
       " ('prod_catalog_category', <Model: prod_catalog_category>),\n",
       " ('product', <Model: product>),\n",
       " ('product_assoc', <Model: product_assoc>),\n",
       " ('product_category', <Model: product_category>),\n",
       " ('product_category_content', <Model: product_category_content>),\n",
       " ('product_category_link', <Model: product_category_link>),\n",
       " ('product_category_member', <Model: product_category_member>),\n",
       " ('product_category_role', <Model: product_category_role>),\n",
       " ('product_category_rollup', <Model: product_category_rollup>),\n",
       " ('product_config', <Model: product_config>),\n",
       " ('product_config_item', <Model: product_config_item>),\n",
       " ('product_config_option', <Model: product_config_option>),\n",
       " ('product_config_product', <Model: product_config_product>),\n",
       " ('product_content', <Model: product_content>),\n",
       " ('product_facility', <Model: product_facility>),\n",
       " ('product_facility_location', <Model: product_facility_location>),\n",
       " ('product_feature', <Model: product_feature>),\n",
       " ('product_feature_appl', <Model: product_feature_appl>),\n",
       " ('product_feature_category', <Model: product_feature_category>),\n",
       " ('product_feature_category_appl', <Model: product_feature_category_appl>),\n",
       " ('product_feature_iactn', <Model: product_feature_iactn>),\n",
       " ('product_feature_price', <Model: product_feature_price>),\n",
       " ('product_price', <Model: product_price>),\n",
       " ('product_price_action', <Model: product_price_action>),\n",
       " ('product_price_cond', <Model: product_price_cond>),\n",
       " ('product_price_rule', <Model: product_price_rule>),\n",
       " ('product_promo', <Model: product_promo>),\n",
       " ('product_promo_action', <Model: product_promo_action>),\n",
       " ('product_promo_category', <Model: product_promo_category>),\n",
       " ('product_promo_code', <Model: product_promo_code>),\n",
       " ('product_promo_cond', <Model: product_promo_cond>),\n",
       " ('product_promo_product', <Model: product_promo_product>),\n",
       " ('product_promo_rule', <Model: product_promo_rule>),\n",
       " ('product_review', <Model: product_review>),\n",
       " ('product_store', <Model: product_store>),\n",
       " ('product_store_catalog', <Model: product_store_catalog>),\n",
       " ('product_store_email_setting', <Model: product_store_email_setting>),\n",
       " ('product_store_facility', <Model: product_store_facility>),\n",
       " ('product_store_keyword_ovrd', <Model: product_store_keyword_ovrd>),\n",
       " ('product_store_payment_setting', <Model: product_store_payment_setting>),\n",
       " ('product_store_promo_appl', <Model: product_store_promo_appl>),\n",
       " ('product_store_role', <Model: product_store_role>),\n",
       " ('product_store_shipment_meth', <Model: product_store_shipment_meth>),\n",
       " ('product_subscription_resource', <Model: product_subscription_resource>),\n",
       " ('quantity_break', <Model: quantity_break>),\n",
       " ('quote', <Model: quote>),\n",
       " ('quote_item', <Model: quote_item>),\n",
       " ('quote_role', <Model: quote_role>),\n",
       " ('quote_term', <Model: quote_term>),\n",
       " ('recurrence_info', <Model: recurrence_info>),\n",
       " ('recurrence_rule', <Model: recurrence_rule>),\n",
       " ('security_group', <Model: security_group>),\n",
       " ('security_group_permission', <Model: security_group_permission>),\n",
       " ('shipment', <Model: shipment>),\n",
       " ('shipment_box_type', <Model: shipment_box_type>),\n",
       " ('shipment_cost_estimate', <Model: shipment_cost_estimate>),\n",
       " ('shipment_item', <Model: shipment_item>),\n",
       " ('shipment_item_billing', <Model: shipment_item_billing>),\n",
       " ('shipment_method_type', <Model: shipment_method_type>),\n",
       " ('shipment_package', <Model: shipment_package>),\n",
       " ('shipment_package_content', <Model: shipment_package_content>),\n",
       " ('shipment_package_route_seg', <Model: shipment_package_route_seg>),\n",
       " ('shipment_receipt', <Model: shipment_receipt>),\n",
       " ('shipment_route_segment', <Model: shipment_route_segment>),\n",
       " ('shipment_status', <Model: shipment_status>),\n",
       " ('subscription_resource', <Model: subscription_resource>),\n",
       " ('supplier_product', <Model: supplier_product>),\n",
       " ('telecom_number', <Model: telecom_number>),\n",
       " ('user_login', <Model: user_login>),\n",
       " ('user_login_security_group', <Model: user_login_security_group>),\n",
       " ('web_analytics_config', <Model: web_analytics_config>),\n",
       " ('web_site', <Model: web_site>),\n",
       " ('work_effort', <Model: work_effort>),\n",
       " ('work_effort_assoc', <Model: work_effort_assoc>),\n",
       " ('work_effort_good_standard', <Model: work_effort_good_standard>)]"
      ]
     },
     "execution_count": 7,
     "metadata": {},
     "output_type": "execute_result"
    }
   ],
   "source": [
    "list(models.items())"
   ]
  },
  {
   "cell_type": "code",
   "execution_count": 8,
   "metadata": {
    "ExecuteTime": {
     "end_time": "2021-11-12T06:25:48.668153Z",
     "start_time": "2021-11-12T06:25:48.663386Z"
    }
   },
   "outputs": [],
   "source": [
    "# Inject models into global namespace.\n",
    "globals().update(models) "
   ]
  },
  {
   "cell_type": "code",
   "execution_count": 9,
   "metadata": {
    "ExecuteTime": {
     "end_time": "2021-11-12T06:25:53.725298Z",
     "start_time": "2021-11-12T06:25:53.709374Z"
    }
   },
   "outputs": [
    {
     "data": {
      "text/plain": [
       "<Model: person>"
      ]
     },
     "execution_count": 9,
     "metadata": {},
     "output_type": "execute_result"
    }
   ],
   "source": [
    "person"
   ]
  },
  {
   "cell_type": "code",
   "execution_count": 10,
   "metadata": {
    "ExecuteTime": {
     "end_time": "2021-11-12T06:26:18.042913Z",
     "start_time": "2021-11-12T06:26:18.032998Z"
    }
   },
   "outputs": [
    {
     "name": "stdout",
     "output_type": "stream",
     "text": [
      "web_site\n",
      "  web_site_id VARCHAR PK\n",
      "  site_name VARCHAR\n",
      "  http_host VARCHAR\n",
      "  http_port VARCHAR\n",
      "  https_host VARCHAR\n",
      "  https_port VARCHAR\n",
      "  enable_https VARCHAR\n",
      "  webapp_path VARCHAR\n",
      "  standard_content_prefix VARCHAR\n",
      "  secure_content_prefix VARCHAR\n",
      "  cookie_domain VARCHAR\n",
      "  visual_theme_set_id VARCHAR\n",
      "  last_updated_stamp DATETIME\n",
      "  created_stamp DATETIME\n",
      "  product_store_id VARCHAR\n",
      "  allow_product_store_change VARCHAR\n",
      "  hosted_path_alias VARCHAR\n",
      "  is_default VARCHAR\n",
      "  display_maintenance_page VARCHAR\n"
     ]
    }
   ],
   "source": [
    "print_model(web_site)"
   ]
  },
  {
   "cell_type": "code",
   "execution_count": 11,
   "metadata": {
    "ExecuteTime": {
     "end_time": "2021-11-12T06:26:31.340135Z",
     "start_time": "2021-11-12T06:26:31.328457Z"
    }
   },
   "outputs": [
    {
     "name": "stdout",
     "output_type": "stream",
     "text": [
      "CREATE TABLE IF NOT EXISTS `person` (\n",
      "  `party_id` VARCHAR(255) NOT NULL PRIMARY KEY,\n",
      "  `salutation` VARCHAR(255),\n",
      "  `first_name` VARCHAR(255),\n",
      "  `middle_name` VARCHAR(255),\n",
      "  `last_name` VARCHAR(255),\n",
      "  `personal_title` VARCHAR(255),\n",
      "  `suffix` VARCHAR(255),\n",
      "  `nickname` VARCHAR(255),\n",
      "  `first_name_local` VARCHAR(255),\n",
      "  `middle_name_local` VARCHAR(255),\n",
      "  `last_name_local` VARCHAR(255),\n",
      "  `other_local` VARCHAR(255),\n",
      "  `member_id` VARCHAR(255),\n",
      "  `gender` VARCHAR(255),\n",
      "  `birth_date` DATE,\n",
      "  `deceased_date` DATE,\n",
      "  `height` FLOAT,\n",
      "  `weight` FLOAT,\n",
      "  `mothers_maiden_name` VARCHAR(255),\n",
      "  `marital_status` VARCHAR(255),\n",
      "  `social_security_number` VARCHAR(255),\n",
      "  `passport_number` VARCHAR(255),\n",
      "  `passport_expire_date` DATE,\n",
      "  `total_years_work_experience` FLOAT,\n",
      "  `comments` VARCHAR(255),\n",
      "  `employment_status_enum_id` VARCHAR(255),\n",
      "  `residence_status_enum_id` VARCHAR(255),\n",
      "  `occupation` VARCHAR(255),\n",
      "  `years_with_employer` NUMERIC(10,\n",
      "  5),\n",
      "  `months_with_employer` NUMERIC(10,\n",
      "  5),\n",
      "  `existing_customer` VARCHAR(255),\n",
      "  `card_id` VARCHAR(255),\n",
      "  `last_updated_stamp` DATETIME,\n",
      "  `created_stamp` DATETIME,\n",
      "  `marital_status_enum_id` VARCHAR(255)\n",
      ")\n"
     ]
    }
   ],
   "source": [
    "print_table_sql(person)"
   ]
  },
  {
   "cell_type": "code",
   "execution_count": 13,
   "metadata": {
    "ExecuteTime": {
     "end_time": "2021-11-12T06:27:38.314940Z",
     "start_time": "2021-11-12T06:27:38.306316Z"
    }
   },
   "outputs": [],
   "source": [
    "for e in person.select().order_by(person.last_updated_stamp).limit(5):\n",
    "    print(e.party_id, e.last_updated_stamp)"
   ]
  },
  {
   "cell_type": "code",
   "execution_count": 15,
   "metadata": {
    "ExecuteTime": {
     "end_time": "2021-11-12T06:30:32.089259Z",
     "start_time": "2021-11-12T06:30:32.031625Z"
    }
   },
   "outputs": [],
   "source": [
    "from datetime import date\n",
    "grandma=person.create(party_id=\"grandma\", last_name=\"kitty\", birth_date=date(1935, 3, 1))"
   ]
  },
  {
   "cell_type": "code",
   "execution_count": 17,
   "metadata": {
    "ExecuteTime": {
     "end_time": "2021-11-12T06:30:52.317965Z",
     "start_time": "2021-11-12T06:30:52.309647Z"
    }
   },
   "outputs": [
    {
     "name": "stdout",
     "output_type": "stream",
     "text": [
      "grandma\n"
     ]
    }
   ],
   "source": [
    "print(grandma)"
   ]
  },
  {
   "cell_type": "code",
   "execution_count": 19,
   "metadata": {
    "ExecuteTime": {
     "end_time": "2021-11-12T06:31:42.564830Z",
     "start_time": "2021-11-12T06:31:42.542781Z"
    }
   },
   "outputs": [
    {
     "data": {
      "text/plain": [
       "0"
      ]
     },
     "execution_count": 19,
     "metadata": {},
     "output_type": "execute_result"
    }
   ],
   "source": [
    "grandma.save()"
   ]
  },
  {
   "cell_type": "code",
   "execution_count": 20,
   "metadata": {
    "ExecuteTime": {
     "end_time": "2021-11-12T06:32:38.612065Z",
     "start_time": "2021-11-12T06:32:38.557904Z"
    }
   },
   "outputs": [
    {
     "data": {
      "text/plain": [
       "0"
      ]
     },
     "execution_count": 20,
     "metadata": {},
     "output_type": "execute_result"
    }
   ],
   "source": [
    "grandma=person.create(party_id=\"kitty\", last_name=\"kitty\", birth_date=date(1935, 3, 1))\n",
    "grandma.save()"
   ]
  },
  {
   "cell_type": "code",
   "execution_count": 23,
   "metadata": {
    "ExecuteTime": {
     "end_time": "2021-11-12T06:34:30.946537Z",
     "start_time": "2021-11-12T06:34:30.923096Z"
    }
   },
   "outputs": [
    {
     "data": {
      "text/plain": [
       "0"
      ]
     },
     "execution_count": 23,
     "metadata": {},
     "output_type": "execute_result"
    }
   ],
   "source": [
    "grandma.last_name = 'Grandma L.'\n",
    "grandma.save()  # Update grandma's name in the database."
   ]
  }
 ],
 "metadata": {
  "kernelspec": {
   "display_name": "Python 3",
   "language": "python",
   "name": "python3"
  },
  "language_info": {
   "codemirror_mode": {
    "name": "ipython",
    "version": 3
   },
   "file_extension": ".py",
   "mimetype": "text/x-python",
   "name": "python",
   "nbconvert_exporter": "python",
   "pygments_lexer": "ipython3",
   "version": "3.7.7"
  },
  "varInspector": {
   "cols": {
    "lenName": 16,
    "lenType": 16,
    "lenVar": 40
   },
   "kernels_config": {
    "python": {
     "delete_cmd_postfix": "",
     "delete_cmd_prefix": "del ",
     "library": "var_list.py",
     "varRefreshCmd": "print(var_dic_list())"
    },
    "r": {
     "delete_cmd_postfix": ") ",
     "delete_cmd_prefix": "rm(",
     "library": "var_list.r",
     "varRefreshCmd": "cat(var_dic_list()) "
    }
   },
   "types_to_exclude": [
    "module",
    "function",
    "builtin_function_or_method",
    "instance",
    "_Feature"
   ],
   "window_display": false
  }
 },
 "nbformat": 4,
 "nbformat_minor": 4
}
