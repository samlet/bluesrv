{
 "cells": [
  {
   "cell_type": "code",
   "execution_count": null,
   "metadata": {},
   "outputs": [],
   "source": [
    "from clickhouse_driver import connect"
   ]
  },
  {
   "cell_type": "code",
   "execution_count": 11,
   "metadata": {
    "ExecuteTime": {
     "end_time": "2021-10-18T15:54:57.600423Z",
     "start_time": "2021-10-18T15:54:57.586325Z"
    }
   },
   "outputs": [
    {
     "name": "stdout",
     "output_type": "stream",
     "text": [
      "[('cart_info',), ('dept',), ('email',), ('emp',), ('hits',), ('order_info',), ('sales',), ('student',), ('student2',), ('t_order_smt',), ('test',)]\n"
     ]
    }
   ],
   "source": [
    "with connect('clickhouse://localhost') as conn:\n",
    "    with conn.cursor() as cursor:\n",
    "       cursor.execute('SHOW TABLES')\n",
    "       print(cursor.fetchall())"
   ]
  },
  {
   "cell_type": "code",
   "execution_count": 2,
   "metadata": {
    "ExecuteTime": {
     "end_time": "2021-10-18T15:51:52.845982Z",
     "start_time": "2021-10-18T15:51:52.577556Z"
    }
   },
   "outputs": [
    {
     "data": {
      "text/plain": [
       "[('cart_info',),\n",
       " ('dept',),\n",
       " ('email',),\n",
       " ('emp',),\n",
       " ('hits',),\n",
       " ('order_info',),\n",
       " ('sales',),\n",
       " ('student',),\n",
       " ('student2',),\n",
       " ('t_order_smt',),\n",
       " ('test',)]"
      ]
     },
     "execution_count": 2,
     "metadata": {},
     "output_type": "execute_result"
    }
   ],
   "source": [
    "from clickhouse_driver import connect\n",
    "conn = connect('clickhouse://localhost')\n",
    "cursor = conn.cursor()\n",
    "\n",
    "cursor.execute('SHOW TABLES')\n",
    "cursor.fetchall()"
   ]
  },
  {
   "cell_type": "code",
   "execution_count": 3,
   "metadata": {
    "ExecuteTime": {
     "end_time": "2021-10-18T15:53:10.013409Z",
     "start_time": "2021-10-18T15:53:09.998668Z"
    }
   },
   "outputs": [
    {
     "data": {
      "text/plain": [
       "[]"
      ]
     },
     "execution_count": 3,
     "metadata": {},
     "output_type": "execute_result"
    }
   ],
   "source": [
    "cursor.execute('DROP TABLE IF EXISTS test')\n",
    "cursor.fetchall()\n"
   ]
  },
  {
   "cell_type": "code",
   "execution_count": 4,
   "metadata": {
    "ExecuteTime": {
     "end_time": "2021-10-18T15:53:16.669142Z",
     "start_time": "2021-10-18T15:53:16.654966Z"
    }
   },
   "outputs": [
    {
     "data": {
      "text/plain": [
       "[]"
      ]
     },
     "execution_count": 4,
     "metadata": {},
     "output_type": "execute_result"
    }
   ],
   "source": [
    "\n",
    "cursor.execute('CREATE TABLE test (x Int32) ENGINE = Memory')\n",
    "cursor.fetchall()\n"
   ]
  },
  {
   "cell_type": "code",
   "execution_count": 5,
   "metadata": {
    "ExecuteTime": {
     "end_time": "2021-10-18T15:53:23.777559Z",
     "start_time": "2021-10-18T15:53:23.762171Z"
    }
   },
   "outputs": [
    {
     "data": {
      "text/plain": [
       "1"
      ]
     },
     "execution_count": 5,
     "metadata": {},
     "output_type": "execute_result"
    }
   ],
   "source": [
    "\n",
    "cursor.executemany(\n",
    "    'INSERT INTO test (x) VALUES',\n",
    "    [{'x': 100}]\n",
    ")\n",
    "cursor.rowcount\n"
   ]
  },
  {
   "cell_type": "code",
   "execution_count": 6,
   "metadata": {
    "ExecuteTime": {
     "end_time": "2021-10-18T15:53:29.596375Z",
     "start_time": "2021-10-18T15:53:29.583109Z"
    }
   },
   "outputs": [
    {
     "data": {
      "text/plain": [
       "1"
      ]
     },
     "execution_count": 6,
     "metadata": {},
     "output_type": "execute_result"
    }
   ],
   "source": [
    "\n",
    "cursor.executemany('INSERT INTO test (x) VALUES', [[200]])\n",
    "cursor.rowcount\n"
   ]
  },
  {
   "cell_type": "code",
   "execution_count": 9,
   "metadata": {
    "ExecuteTime": {
     "end_time": "2021-10-18T15:54:09.391496Z",
     "start_time": "2021-10-18T15:54:09.358130Z"
    }
   },
   "outputs": [
    {
     "data": {
      "text/plain": [
       "1"
      ]
     },
     "execution_count": 9,
     "metadata": {},
     "output_type": "execute_result"
    }
   ],
   "source": [
    "cursor.execute(\n",
    "    'INSERT INTO test (x) '\n",
    "    'SELECT * FROM system.numbers LIMIT %(limit)s',\n",
    "    {'limit': 3}\n",
    ")\n",
    "cursor.rowcount\n"
   ]
  },
  {
   "cell_type": "code",
   "execution_count": 8,
   "metadata": {
    "ExecuteTime": {
     "end_time": "2021-10-18T15:53:39.837388Z",
     "start_time": "2021-10-18T15:53:39.776501Z"
    }
   },
   "outputs": [
    {
     "data": {
      "text/plain": [
       "[(303,)]"
      ]
     },
     "execution_count": 8,
     "metadata": {},
     "output_type": "execute_result"
    }
   ],
   "source": [
    "cursor.execute('SELECT sum(x) FROM test')\n",
    "cursor.fetchall()"
   ]
  }
 ],
 "metadata": {
  "kernelspec": {
   "display_name": "Python 3",
   "language": "python",
   "name": "python3"
  },
  "language_info": {
   "codemirror_mode": {
    "name": "ipython",
    "version": 3
   },
   "file_extension": ".py",
   "mimetype": "text/x-python",
   "name": "python",
   "nbconvert_exporter": "python",
   "pygments_lexer": "ipython3",
   "version": "3.7.7"
  },
  "varInspector": {
   "cols": {
    "lenName": 16,
    "lenType": 16,
    "lenVar": 40
   },
   "kernels_config": {
    "python": {
     "delete_cmd_postfix": "",
     "delete_cmd_prefix": "del ",
     "library": "var_list.py",
     "varRefreshCmd": "print(var_dic_list())"
    },
    "r": {
     "delete_cmd_postfix": ") ",
     "delete_cmd_prefix": "rm(",
     "library": "var_list.r",
     "varRefreshCmd": "cat(var_dic_list()) "
    }
   },
   "types_to_exclude": [
    "module",
    "function",
    "builtin_function_or_method",
    "instance",
    "_Feature"
   ],
   "window_display": false
  }
 },
 "nbformat": 4,
 "nbformat_minor": 4
}
