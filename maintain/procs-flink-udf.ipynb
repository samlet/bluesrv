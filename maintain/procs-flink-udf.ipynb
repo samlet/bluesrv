{
 "cells": [
  {
   "cell_type": "code",
   "execution_count": 1,
   "metadata": {
    "ExecuteTime": {
     "end_time": "2021-10-20T08:10:45.443555Z",
     "start_time": "2021-10-20T08:10:41.397038Z"
    }
   },
   "outputs": [],
   "source": [
    "from pyflink.common import Row\n",
    "from pyflink.table import (EnvironmentSettings, TableEnvironment, DataTypes)\n",
    "from pyflink.table.expressions import lit, col\n",
    "from pyflink.table.udf import udtf\n",
    "\n",
    "settings = EnvironmentSettings.new_instance().in_batch_mode().use_blink_planner().build()\n",
    "t_env = TableEnvironment.create(settings)"
   ]
  },
  {
   "cell_type": "code",
   "execution_count": 2,
   "metadata": {
    "ExecuteTime": {
     "end_time": "2021-10-20T08:10:47.037817Z",
     "start_time": "2021-10-20T08:10:47.003875Z"
    }
   },
   "outputs": [
    {
     "data": {
      "text/plain": [
       "<pyflink.common.configuration.Configuration at 0x7fa9def1c290>"
      ]
     },
     "execution_count": 2,
     "metadata": {},
     "output_type": "execute_result"
    }
   ],
   "source": [
    "t_env.get_config().get_configuration().set_string(\"parallelism.default\", \"1\")"
   ]
  },
  {
   "cell_type": "code",
   "execution_count": 3,
   "metadata": {
    "ExecuteTime": {
     "end_time": "2021-10-20T08:10:50.475799Z",
     "start_time": "2021-10-20T08:10:50.345086Z"
    }
   },
   "outputs": [],
   "source": [
    "# define the source\n",
    "table = t_env.from_elements(\n",
    "    elements=[\n",
    "        (1, '{\"name\": \"Flink\", \"tel\": 123, \"addr\": {\"country\": \"Germany\", \"city\": \"Berlin\"}}'),\n",
    "        (2, '{\"name\": \"hello\", \"tel\": 135, \"addr\": {\"country\": \"China\", \"city\": \"Shanghai\"}}'),\n",
    "        (3, '{\"name\": \"world\", \"tel\": 124, \"addr\": {\"country\": \"USA\", \"city\": \"NewYork\"}}'),\n",
    "        (4, '{\"name\": \"PyFlink\", \"tel\": 32, \"addr\": {\"country\": \"China\", \"city\": \"Hangzhou\"}}')\n",
    "    ],\n",
    "    schema=['id', 'data'])"
   ]
  },
  {
   "cell_type": "code",
   "execution_count": 4,
   "metadata": {
    "ExecuteTime": {
     "end_time": "2021-10-20T08:10:52.899482Z",
     "start_time": "2021-10-20T08:10:52.704254Z"
    }
   },
   "outputs": [
    {
     "data": {
      "text/plain": [
       "<pyflink.table.table_result.TableResult at 0x7fa9e1795e10>"
      ]
     },
     "execution_count": 4,
     "metadata": {},
     "output_type": "execute_result"
    }
   ],
   "source": [
    "# define the sink\n",
    "t_env.execute_sql(\"\"\"\n",
    "        CREATE TABLE sink (\n",
    "            id BIGINT,\n",
    "            data STRING\n",
    "        ) with (\n",
    "            'connector' = 'print'\n",
    "        )\n",
    "    \"\"\")"
   ]
  },
  {
   "cell_type": "code",
   "execution_count": 5,
   "metadata": {
    "ExecuteTime": {
     "end_time": "2021-10-20T08:10:56.830640Z",
     "start_time": "2021-10-20T08:10:56.823328Z"
    }
   },
   "outputs": [],
   "source": [
    "from pyflink.table import (EnvironmentSettings, TableEnvironment, DataTypes)\n",
    "from pyflink.table.udf import udf\n",
    "\n",
    "# update json columns\n",
    "@udf(result_type=DataTypes.STRING())\n",
    "def update_tel(data):\n",
    "    json_data = json.loads(data)\n",
    "    json_data['tel'] += 1\n",
    "    return json.dumps(json_data)"
   ]
  },
  {
   "cell_type": "code",
   "execution_count": 6,
   "metadata": {
    "ExecuteTime": {
     "end_time": "2021-10-20T08:10:59.252579Z",
     "start_time": "2021-10-20T08:10:59.070913Z"
    }
   },
   "outputs": [],
   "source": [
    "table = table.select(table.id, update_tel(table.data))"
   ]
  },
  {
   "cell_type": "code",
   "execution_count": 7,
   "metadata": {
    "ExecuteTime": {
     "end_time": "2021-10-20T08:11:20.347064Z",
     "start_time": "2021-10-20T08:11:01.383180Z"
    }
   },
   "outputs": [],
   "source": [
    "table.execute_insert('sink').wait()\n",
    "# remove .wait if submitting to a remote cluster, refer to\n",
    "# https://nightlies.apache.org/flink/flink-docs-stable/docs/dev/python/faq/#wait-for-jobs-to-finish-when-executing-jobs-in-mini-cluster\n",
    "# for more details\n",
    "\n",
    "# 在控制台打印"
   ]
  },
  {
   "cell_type": "code",
   "execution_count": 8,
   "metadata": {
    "ExecuteTime": {
     "end_time": "2021-10-20T08:11:45.810078Z",
     "start_time": "2021-10-20T08:11:45.661814Z"
    }
   },
   "outputs": [
    {
     "data": {
      "text/plain": [
       "<pyflink.table.table_result.TableResult at 0x7fa9e2329fd0>"
      ]
     },
     "execution_count": 8,
     "metadata": {},
     "output_type": "execute_result"
    }
   ],
   "source": [
    "# define the source with watermark definition\n",
    "t_env.execute_sql(\"\"\"\n",
    "        CREATE TABLE source (\n",
    "            ts TIMESTAMP_LTZ(3),\n",
    "            name STRING,\n",
    "            price FLOAT,\n",
    "            watermark FOR ts as ts - INTERVAL '3' SECOND\n",
    "        ) with (\n",
    "            'connector' = 'datagen',\n",
    "            'number-of-rows' = '10'\n",
    "        )\n",
    "    \"\"\")"
   ]
  },
  {
   "cell_type": "code",
   "execution_count": 9,
   "metadata": {
    "ExecuteTime": {
     "end_time": "2021-10-20T08:11:51.875398Z",
     "start_time": "2021-10-20T08:11:51.857199Z"
    }
   },
   "outputs": [
    {
     "data": {
      "text/plain": [
       "<pyflink.table.table_result.TableResult at 0x7fa9e27463d0>"
      ]
     },
     "execution_count": 9,
     "metadata": {},
     "output_type": "execute_result"
    }
   ],
   "source": [
    "# define the sink\n",
    "t_env.execute_sql(\"\"\"\n",
    "        CREATE TABLE sink_price (\n",
    "            name STRING,\n",
    "            total_price FLOAT,\n",
    "            w_start TIMESTAMP(3),\n",
    "            w_end TIMESTAMP(3)\n",
    "        ) with (\n",
    "            'connector' = 'print'\n",
    "        )\n",
    "    \"\"\")"
   ]
  },
  {
   "cell_type": "code",
   "execution_count": 10,
   "metadata": {
    "ExecuteTime": {
     "end_time": "2021-10-20T08:11:54.958146Z",
     "start_time": "2021-10-20T08:11:54.949589Z"
    }
   },
   "outputs": [],
   "source": [
    "table = t_env.from_path(\"source\")"
   ]
  },
  {
   "cell_type": "code",
   "execution_count": 11,
   "metadata": {
    "ExecuteTime": {
     "end_time": "2021-10-20T08:11:57.401735Z",
     "start_time": "2021-10-20T08:11:57.395331Z"
    }
   },
   "outputs": [],
   "source": [
    "from pyflink.table.udf import udaf\n",
    "from pyflink.table.window import Tumble"
   ]
  },
  {
   "cell_type": "code",
   "execution_count": 12,
   "metadata": {
    "ExecuteTime": {
     "end_time": "2021-10-20T08:12:00.865957Z",
     "start_time": "2021-10-20T08:12:00.840188Z"
    }
   },
   "outputs": [],
   "source": [
    "@udaf(result_type=DataTypes.FLOAT(), func_type=\"pandas\")\n",
    "def mean_udaf(v):\n",
    "    return v.mean()"
   ]
  },
  {
   "cell_type": "code",
   "execution_count": 13,
   "metadata": {
    "ExecuteTime": {
     "end_time": "2021-10-20T08:12:03.335495Z",
     "start_time": "2021-10-20T08:12:03.022882Z"
    }
   },
   "outputs": [],
   "source": [
    "# define the tumble window operation\n",
    "table = table.window(Tumble.over(lit(5).seconds).on(col(\"ts\")).alias(\"w\")) \\\n",
    "             .group_by(table.name, col('w')) \\\n",
    "             .select(table.name, mean_udaf(table.price), col(\"w\").start, col(\"w\").end)"
   ]
  },
  {
   "cell_type": "code",
   "execution_count": 14,
   "metadata": {
    "ExecuteTime": {
     "end_time": "2021-10-20T08:12:15.113503Z",
     "start_time": "2021-10-20T08:12:07.367301Z"
    }
   },
   "outputs": [
    {
     "name": "stderr",
     "output_type": "stream",
     "text": [
      "/Users/xiaofeiwu/miniconda3/envs/bigdata/lib/python3.7/site-packages/pyflink/table/utils.py:55: FutureWarning: Schema passed to names= option, please pass schema= explicitly. Will raise exception in future\n",
      "  return pa.RecordBatch.from_arrays(arrays, schema)\n"
     ]
    }
   ],
   "source": [
    "# submit for execution\n",
    "table.execute_insert('sink_price') \\\n",
    "     .wait()"
   ]
  },
  {
   "cell_type": "code",
   "execution_count": null,
   "metadata": {},
   "outputs": [],
   "source": []
  }
 ],
 "metadata": {
  "kernelspec": {
   "display_name": "Python 3",
   "language": "python",
   "name": "python3"
  },
  "language_info": {
   "codemirror_mode": {
    "name": "ipython",
    "version": 3
   },
   "file_extension": ".py",
   "mimetype": "text/x-python",
   "name": "python",
   "nbconvert_exporter": "python",
   "pygments_lexer": "ipython3",
   "version": "3.7.7"
  },
  "varInspector": {
   "cols": {
    "lenName": 16,
    "lenType": 16,
    "lenVar": 40
   },
   "kernels_config": {
    "python": {
     "delete_cmd_postfix": "",
     "delete_cmd_prefix": "del ",
     "library": "var_list.py",
     "varRefreshCmd": "print(var_dic_list())"
    },
    "r": {
     "delete_cmd_postfix": ") ",
     "delete_cmd_prefix": "rm(",
     "library": "var_list.r",
     "varRefreshCmd": "cat(var_dic_list()) "
    }
   },
   "types_to_exclude": [
    "module",
    "function",
    "builtin_function_or_method",
    "instance",
    "_Feature"
   ],
   "window_display": false
  }
 },
 "nbformat": 4,
 "nbformat_minor": 4
}
