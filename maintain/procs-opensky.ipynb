{
 "cells": [
  {
   "cell_type": "code",
   "execution_count": 1,
   "metadata": {
    "ExecuteTime": {
     "end_time": "2021-10-26T16:53:07.792118Z",
     "start_time": "2021-10-26T16:53:07.138415Z"
    }
   },
   "outputs": [],
   "source": [
    "from clickhouse_driver import connect\n",
    "from clickhouse_driver import Client\n",
    "\n",
    "client = Client('localhost', settings={'use_numpy': True})\n",
    "sql='''SELECT avg(geoDistance(longitude_1, latitude_1, longitude_2, latitude_2)) FROM opensky;\n",
    "'''"
   ]
  },
  {
   "cell_type": "code",
   "execution_count": 2,
   "metadata": {
    "ExecuteTime": {
     "end_time": "2021-10-26T16:53:10.651063Z",
     "start_time": "2021-10-26T16:53:10.229414Z"
    }
   },
   "outputs": [
    {
     "data": {
      "text/html": [
       "<div>\n",
       "<style scoped>\n",
       "    .dataframe tbody tr th:only-of-type {\n",
       "        vertical-align: middle;\n",
       "    }\n",
       "\n",
       "    .dataframe tbody tr th {\n",
       "        vertical-align: top;\n",
       "    }\n",
       "\n",
       "    .dataframe thead th {\n",
       "        text-align: right;\n",
       "    }\n",
       "</style>\n",
       "<table border=\"1\" class=\"dataframe\">\n",
       "  <thead>\n",
       "    <tr style=\"text-align: right;\">\n",
       "      <th></th>\n",
       "      <th>avg_geoDistance_longitude_1__latitude_1__longitude_2__latitude_2__</th>\n",
       "    </tr>\n",
       "  </thead>\n",
       "  <tbody>\n",
       "    <tr>\n",
       "      <th>0</th>\n",
       "      <td>1.202421e+06</td>\n",
       "    </tr>\n",
       "  </tbody>\n",
       "</table>\n",
       "</div>"
      ],
      "text/plain": [
       "   avg_geoDistance_longitude_1__latitude_1__longitude_2__latitude_2__\n",
       "0                                       1.202421e+06                 "
      ]
     },
     "execution_count": 2,
     "metadata": {},
     "output_type": "execute_result"
    }
   ],
   "source": [
    "client.query_dataframe(sql)"
   ]
  },
  {
   "cell_type": "code",
   "execution_count": 3,
   "metadata": {
    "ExecuteTime": {
     "end_time": "2021-10-26T16:53:38.496948Z",
     "start_time": "2021-10-26T16:53:38.136700Z"
    }
   },
   "outputs": [
    {
     "data": {
      "text/html": [
       "<div>\n",
       "<style scoped>\n",
       "    .dataframe tbody tr th:only-of-type {\n",
       "        vertical-align: middle;\n",
       "    }\n",
       "\n",
       "    .dataframe tbody tr th {\n",
       "        vertical-align: top;\n",
       "    }\n",
       "\n",
       "    .dataframe thead th {\n",
       "        text-align: right;\n",
       "    }\n",
       "</style>\n",
       "<table border=\"1\" class=\"dataframe\">\n",
       "  <thead>\n",
       "    <tr style=\"text-align: right;\">\n",
       "      <th></th>\n",
       "      <th>origin</th>\n",
       "      <th>count__</th>\n",
       "      <th>distance</th>\n",
       "      <th>bar</th>\n",
       "    </tr>\n",
       "  </thead>\n",
       "  <tbody>\n",
       "    <tr>\n",
       "      <th>0</th>\n",
       "      <td>KORD</td>\n",
       "      <td>69636</td>\n",
       "      <td>1561075.0</td>\n",
       "      <td>███████████████▌</td>\n",
       "    </tr>\n",
       "    <tr>\n",
       "      <th>1</th>\n",
       "      <td>KLAX</td>\n",
       "      <td>67517</td>\n",
       "      <td>2601925.0</td>\n",
       "      <td>██████████████████████████</td>\n",
       "    </tr>\n",
       "    <tr>\n",
       "      <th>2</th>\n",
       "      <td>KDFW</td>\n",
       "      <td>64572</td>\n",
       "      <td>1400285.0</td>\n",
       "      <td>██████████████</td>\n",
       "    </tr>\n",
       "    <tr>\n",
       "      <th>3</th>\n",
       "      <td>EGLL</td>\n",
       "      <td>51721</td>\n",
       "      <td>3075442.0</td>\n",
       "      <td>██████████████████████████████▋</td>\n",
       "    </tr>\n",
       "    <tr>\n",
       "      <th>4</th>\n",
       "      <td>OMDB</td>\n",
       "      <td>50708</td>\n",
       "      <td>2522827.0</td>\n",
       "      <td>█████████████████████████▏</td>\n",
       "    </tr>\n",
       "    <tr>\n",
       "      <th>...</th>\n",
       "      <td>...</td>\n",
       "      <td>...</td>\n",
       "      <td>...</td>\n",
       "      <td>...</td>\n",
       "    </tr>\n",
       "    <tr>\n",
       "      <th>95</th>\n",
       "      <td>PANC</td>\n",
       "      <td>11888</td>\n",
       "      <td>3055839.0</td>\n",
       "      <td>██████████████████████████████▌</td>\n",
       "    </tr>\n",
       "    <tr>\n",
       "      <th>96</th>\n",
       "      <td>KPBI</td>\n",
       "      <td>11804</td>\n",
       "      <td>1348125.0</td>\n",
       "      <td>█████████████▍</td>\n",
       "    </tr>\n",
       "    <tr>\n",
       "      <th>97</th>\n",
       "      <td>LIML</td>\n",
       "      <td>11786</td>\n",
       "      <td>746156.0</td>\n",
       "      <td>███████▍</td>\n",
       "    </tr>\n",
       "    <tr>\n",
       "      <th>98</th>\n",
       "      <td>KTPA</td>\n",
       "      <td>11757</td>\n",
       "      <td>1389318.0</td>\n",
       "      <td>█████████████▊</td>\n",
       "    </tr>\n",
       "    <tr>\n",
       "      <th>99</th>\n",
       "      <td>EPWA</td>\n",
       "      <td>11546</td>\n",
       "      <td>1478141.0</td>\n",
       "      <td>██████████████▋</td>\n",
       "    </tr>\n",
       "  </tbody>\n",
       "</table>\n",
       "<p>100 rows × 4 columns</p>\n",
       "</div>"
      ],
      "text/plain": [
       "   origin  count__   distance                              bar\n",
       "0    KORD    69636  1561075.0                 ███████████████▌\n",
       "1    KLAX    67517  2601925.0       ██████████████████████████\n",
       "2    KDFW    64572  1400285.0                   ██████████████\n",
       "3    EGLL    51721  3075442.0  ██████████████████████████████▋\n",
       "4    OMDB    50708  2522827.0       █████████████████████████▏\n",
       "..    ...      ...        ...                              ...\n",
       "95   PANC    11888  3055839.0  ██████████████████████████████▌\n",
       "96   KPBI    11804  1348125.0                   █████████████▍\n",
       "97   LIML    11786   746156.0                         ███████▍\n",
       "98   KTPA    11757  1389318.0                   █████████████▊\n",
       "99   EPWA    11546  1478141.0                  ██████████████▋\n",
       "\n",
       "[100 rows x 4 columns]"
      ]
     },
     "execution_count": 3,
     "metadata": {},
     "output_type": "execute_result"
    }
   ],
   "source": [
    "sql='''SELECT\n",
    "    origin,\n",
    "    count(),\n",
    "    round(avg(geoDistance(longitude_1, latitude_1, longitude_2, latitude_2))) AS distance,\n",
    "    bar(distance, 0, 10000000, 100) AS bar\n",
    "FROM opensky\n",
    "WHERE origin != ''\n",
    "GROUP BY origin\n",
    "ORDER BY count() DESC\n",
    "LIMIT 100;\n",
    "'''\n",
    "client.query_dataframe(sql)"
   ]
  },
  {
   "cell_type": "code",
   "execution_count": 4,
   "metadata": {
    "ExecuteTime": {
     "end_time": "2021-10-26T16:54:09.341428Z",
     "start_time": "2021-10-26T16:54:09.287151Z"
    }
   },
   "outputs": [
    {
     "data": {
      "text/html": [
       "<div>\n",
       "<style scoped>\n",
       "    .dataframe tbody tr th:only-of-type {\n",
       "        vertical-align: middle;\n",
       "    }\n",
       "\n",
       "    .dataframe tbody tr th {\n",
       "        vertical-align: top;\n",
       "    }\n",
       "\n",
       "    .dataframe thead th {\n",
       "        text-align: right;\n",
       "    }\n",
       "</style>\n",
       "<table border=\"1\" class=\"dataframe\">\n",
       "  <thead>\n",
       "    <tr style=\"text-align: right;\">\n",
       "      <th></th>\n",
       "      <th>k</th>\n",
       "      <th>c</th>\n",
       "      <th>bar</th>\n",
       "    </tr>\n",
       "  </thead>\n",
       "  <tbody>\n",
       "    <tr>\n",
       "      <th>0</th>\n",
       "      <td>2018-12-31</td>\n",
       "      <td>5248</td>\n",
       "      <td>██████████████████████████████████████████████...</td>\n",
       "    </tr>\n",
       "    <tr>\n",
       "      <th>1</th>\n",
       "      <td>2019-01-07</td>\n",
       "      <td>6302</td>\n",
       "      <td>██████████████████████████████████████████████...</td>\n",
       "    </tr>\n",
       "    <tr>\n",
       "      <th>2</th>\n",
       "      <td>2019-01-14</td>\n",
       "      <td>5701</td>\n",
       "      <td>██████████████████████████████████████████████...</td>\n",
       "    </tr>\n",
       "    <tr>\n",
       "      <th>3</th>\n",
       "      <td>2019-01-21</td>\n",
       "      <td>5638</td>\n",
       "      <td>██████████████████████████████████████████████...</td>\n",
       "    </tr>\n",
       "    <tr>\n",
       "      <th>4</th>\n",
       "      <td>2019-01-28</td>\n",
       "      <td>5731</td>\n",
       "      <td>██████████████████████████████████████████████...</td>\n",
       "    </tr>\n",
       "    <tr>\n",
       "      <th>5</th>\n",
       "      <td>2019-02-04</td>\n",
       "      <td>5683</td>\n",
       "      <td>██████████████████████████████████████████████...</td>\n",
       "    </tr>\n",
       "    <tr>\n",
       "      <th>6</th>\n",
       "      <td>2019-02-11</td>\n",
       "      <td>5759</td>\n",
       "      <td>██████████████████████████████████████████████...</td>\n",
       "    </tr>\n",
       "    <tr>\n",
       "      <th>7</th>\n",
       "      <td>2019-02-18</td>\n",
       "      <td>5736</td>\n",
       "      <td>██████████████████████████████████████████████...</td>\n",
       "    </tr>\n",
       "    <tr>\n",
       "      <th>8</th>\n",
       "      <td>2019-02-25</td>\n",
       "      <td>5873</td>\n",
       "      <td>██████████████████████████████████████████████...</td>\n",
       "    </tr>\n",
       "    <tr>\n",
       "      <th>9</th>\n",
       "      <td>2019-03-04</td>\n",
       "      <td>5965</td>\n",
       "      <td>██████████████████████████████████████████████...</td>\n",
       "    </tr>\n",
       "    <tr>\n",
       "      <th>10</th>\n",
       "      <td>2019-03-11</td>\n",
       "      <td>5900</td>\n",
       "      <td>██████████████████████████████████████████████...</td>\n",
       "    </tr>\n",
       "    <tr>\n",
       "      <th>11</th>\n",
       "      <td>2019-03-18</td>\n",
       "      <td>5823</td>\n",
       "      <td>██████████████████████████████████████████████...</td>\n",
       "    </tr>\n",
       "    <tr>\n",
       "      <th>12</th>\n",
       "      <td>2019-03-25</td>\n",
       "      <td>5899</td>\n",
       "      <td>██████████████████████████████████████████████...</td>\n",
       "    </tr>\n",
       "  </tbody>\n",
       "</table>\n",
       "</div>"
      ],
      "text/plain": [
       "            k     c                                                bar\n",
       "0  2018-12-31  5248  ██████████████████████████████████████████████...\n",
       "1  2019-01-07  6302  ██████████████████████████████████████████████...\n",
       "2  2019-01-14  5701  ██████████████████████████████████████████████...\n",
       "3  2019-01-21  5638  ██████████████████████████████████████████████...\n",
       "4  2019-01-28  5731  ██████████████████████████████████████████████...\n",
       "5  2019-02-04  5683  ██████████████████████████████████████████████...\n",
       "6  2019-02-11  5759  ██████████████████████████████████████████████...\n",
       "7  2019-02-18  5736  ██████████████████████████████████████████████...\n",
       "8  2019-02-25  5873  ██████████████████████████████████████████████...\n",
       "9  2019-03-04  5965  ██████████████████████████████████████████████...\n",
       "10 2019-03-11  5900  ██████████████████████████████████████████████...\n",
       "11 2019-03-18  5823  ██████████████████████████████████████████████...\n",
       "12 2019-03-25  5899  ██████████████████████████████████████████████..."
      ]
     },
     "execution_count": 4,
     "metadata": {},
     "output_type": "execute_result"
    }
   ],
   "source": [
    "sql='''SELECT\n",
    "    toMonday(day) AS k,\n",
    "    count() AS c,\n",
    "    bar(c, 0, 10000, 100) AS bar\n",
    "FROM opensky\n",
    "WHERE origin IN ('UUEE', 'UUDD', 'UUWW')\n",
    "GROUP BY k\n",
    "ORDER BY k ASC;'''\n",
    "client.query_dataframe(sql)"
   ]
  },
  {
   "cell_type": "code",
   "execution_count": null,
   "metadata": {},
   "outputs": [],
   "source": []
  }
 ],
 "metadata": {
  "kernelspec": {
   "display_name": "Python 3",
   "language": "python",
   "name": "python3"
  },
  "language_info": {
   "codemirror_mode": {
    "name": "ipython",
    "version": 3
   },
   "file_extension": ".py",
   "mimetype": "text/x-python",
   "name": "python",
   "nbconvert_exporter": "python",
   "pygments_lexer": "ipython3",
   "version": "3.7.7"
  },
  "varInspector": {
   "cols": {
    "lenName": 16,
    "lenType": 16,
    "lenVar": 40
   },
   "kernels_config": {
    "python": {
     "delete_cmd_postfix": "",
     "delete_cmd_prefix": "del ",
     "library": "var_list.py",
     "varRefreshCmd": "print(var_dic_list())"
    },
    "r": {
     "delete_cmd_postfix": ") ",
     "delete_cmd_prefix": "rm(",
     "library": "var_list.r",
     "varRefreshCmd": "cat(var_dic_list()) "
    }
   },
   "types_to_exclude": [
    "module",
    "function",
    "builtin_function_or_method",
    "instance",
    "_Feature"
   ],
   "window_display": false
  }
 },
 "nbformat": 4,
 "nbformat_minor": 4
}
